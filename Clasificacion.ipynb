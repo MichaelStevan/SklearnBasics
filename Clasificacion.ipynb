{
 "cells": [
  {
   "cell_type": "markdown",
   "metadata": {},
   "source": [
    "# Clasificación y métricas de evaluación\n",
    "**Autor:** José A. Troyano, Beatriz Pontes &nbsp;&nbsp;&nbsp; **Última modificación:** 16/01/2019"
   ]
  },
  {
   "cell_type": "markdown",
   "metadata": {},
   "source": [
    "## Contenido\n",
    "\n",
    "1. <a href=\"#clasificador\">Entrenamiento de un clasificador</a><br>\n",
    "    1.1 <a href=\"#logistica\">Regresión logística</a><br>\n",
    "    1.2 <a href=\"#estimadores\">Estimadores de sklearn: _fit_, _predict_ y _predict_\\__proba_</a>\n",
    "2. <a href=\"#evaluacion_tt\">Evaluación train/test</a><br>\n",
    "    2.1 <a href=\"#separacion\">Separación entrenamiento y validación</a> <br>\n",
    "    2.2 <a href=\"#accuracy\">Cálculo del accuracy</a><br>\n",
    "    2.3 <a href=\"#pertenencia\">Probabilidades de pertenencia</a><br>\n",
    "3. <a href=\"#evaluacion_cruzada\">Evaluación mediante validación cruzada</a> <br>\n",
    "4. <a href=\"#matriz_cf\">Matriz de confusión y otras métricas</a><br>\n",
    "    4.1 <a href=\"#aciertos_fallos\">Número de aciertos y fallos: TP, FP, TN, FN</a><br>\n",
    "    4.2 <a href=\"#medidas\">accuracy, precission, recall y f1</a> <br>\n",
    "    4.3 <a href=\"#rates\">_True Positive Rate_ y _False Positive Rate_</a> <br>\n",
    "5. <a href=\"#curvas\">Curva ROC y curva Precision-Recall</a> <br>\n",
    "6. <a href=\"#otros_clasif\">Otros clasificadores</a> <br>\n",
    "    6.1 <a href=\"#arboles\">Árboles de Decisión</a> <br>\n",
    "    6.2 <a href=\"#randomF\">Random Forest</a> <br>\n",
    "------------------------------------------------------"
   ]
  },
  {
   "cell_type": "markdown",
   "metadata": {},
   "source": [
    "En este notebook usaremos un dataset para entrenar un clasificador de Sklearn y veremos distintas formas de evaluar la calidad del clasificador obtenido. \n",
    "\n",
    "Empezaremos por importar todos los elementos que usaremos a lo largo del notebook:"
   ]
  },
  {
   "cell_type": "code",
   "execution_count": 1,
   "metadata": {},
   "outputs": [
    {
     "name": "stdout",
     "output_type": "stream",
     "text": [
      "Collecting scikit-plot\n",
      "  Downloading https://files.pythonhosted.org/packages/7c/47/32520e259340c140a4ad27c1b97050dd3254fdc517b1d59974d47037510e/scikit_plot-0.3.7-py3-none-any.whl\n",
      "Requirement already satisfied: graphviz in c:\\users\\belladona\\anaconda3\\envs\\ztdl\\lib\\site-packages (0.8.4)\n",
      "Collecting pydotplus\n",
      "  Downloading https://files.pythonhosted.org/packages/60/bf/62567830b700d9f6930e9ab6831d6ba256f7b0b730acb37278b0ccdffacf/pydotplus-2.0.2.tar.gz (278kB)\n",
      "Requirement already satisfied: scipy>=0.9 in c:\\users\\belladona\\anaconda3\\envs\\ztdl\\lib\\site-packages (from scikit-plot) (1.1.0)\n",
      "Requirement already satisfied: scikit-learn>=0.18 in c:\\users\\belladona\\anaconda3\\envs\\ztdl\\lib\\site-packages (from scikit-plot) (0.20.0)\n",
      "Collecting joblib>=0.10 (from scikit-plot)\n",
      "  Downloading https://files.pythonhosted.org/packages/49/d9/4ea194a4c1d0148f9446054b9135f47218c23ccc6f649aeb09fab4c0925c/joblib-0.13.1-py2.py3-none-any.whl (278kB)\n",
      "Requirement already satisfied: matplotlib>=1.4.0 in c:\\users\\belladona\\anaconda3\\envs\\ztdl\\lib\\site-packages (from scikit-plot) (3.0.1)\n",
      "Requirement already satisfied: pyparsing>=2.0.1 in c:\\users\\belladona\\anaconda3\\envs\\ztdl\\lib\\site-packages (from pydotplus) (2.3.0)\n",
      "Requirement already satisfied: numpy>=1.8.2 in c:\\users\\belladona\\anaconda3\\envs\\ztdl\\lib\\site-packages (from scikit-learn>=0.18->scikit-plot) (1.15.4)\n",
      "Requirement already satisfied: cycler>=0.10 in c:\\users\\belladona\\anaconda3\\envs\\ztdl\\lib\\site-packages (from matplotlib>=1.4.0->scikit-plot) (0.10.0)\n",
      "Requirement already satisfied: kiwisolver>=1.0.1 in c:\\users\\belladona\\anaconda3\\envs\\ztdl\\lib\\site-packages (from matplotlib>=1.4.0->scikit-plot) (1.0.1)\n",
      "Requirement already satisfied: python-dateutil>=2.1 in c:\\users\\belladona\\anaconda3\\envs\\ztdl\\lib\\site-packages (from matplotlib>=1.4.0->scikit-plot) (2.7.5)\n",
      "Requirement already satisfied: six in c:\\users\\belladona\\anaconda3\\envs\\ztdl\\lib\\site-packages (from cycler>=0.10->matplotlib>=1.4.0->scikit-plot) (1.11.0)\n",
      "Requirement already satisfied: setuptools in c:\\users\\belladona\\anaconda3\\envs\\ztdl\\lib\\site-packages (from kiwisolver>=1.0.1->matplotlib>=1.4.0->scikit-plot) (39.1.0)\n",
      "Building wheels for collected packages: pydotplus\n",
      "  Running setup.py bdist_wheel for pydotplus: started\n",
      "  Running setup.py bdist_wheel for pydotplus: finished with status 'done'\n",
      "  Stored in directory: C:\\Users\\Belladona\\AppData\\Local\\pip\\Cache\\wheels\\35\\7b\\ab\\66fb7b2ac1f6df87475b09dc48e707b6e0de80a6d8444e3628\n",
      "Successfully built pydotplus\n",
      "Installing collected packages: joblib, scikit-plot, pydotplus\n",
      "Successfully installed joblib-0.13.1 pydotplus-2.0.2 scikit-plot-0.3.7\n"
     ]
    },
    {
     "name": "stderr",
     "output_type": "stream",
     "text": [
      "You are using pip version 18.1, however version 19.0.1 is available.\n",
      "You should consider upgrading via the 'python -m pip install --upgrade pip' command.\n"
     ]
    }
   ],
   "source": [
    "!pip install scikit-plot graphviz pydotplus"
   ]
  },
  {
   "cell_type": "code",
   "execution_count": 3,
   "metadata": {},
   "outputs": [],
   "source": [
    "# Lectura de datos\n",
    "import numpy as np\n",
    "import pandas as pd\n",
    "\n",
    "from sklearn.datasets import load_breast_cancer\n",
    "\n",
    "# Clasificación\n",
    "from sklearn.linear_model import LogisticRegression\n",
    "from sklearn.ensemble import RandomForestClassifier\n",
    "from sklearn.tree import DecisionTreeClassifier\n",
    "from sklearn import tree\n",
    "\n",
    "# Evaluación\n",
    "from sklearn import metrics\n",
    "from sklearn.model_selection import train_test_split, cross_val_predict, cross_val_score\n",
    "\n",
    "# Visualización\n",
    "import scikitplot as skplt\n",
    "import seaborn as sns\n",
    "import matplotlib.pyplot as plt\n",
    "from graphviz import Source\n",
    "import pydotplus\n",
    "\n",
    "\n",
    "%matplotlib inline\n",
    "\n",
    "import scipy.stats"
   ]
  },
  {
   "cell_type": "markdown",
   "metadata": {},
   "source": [
    "Usaremos el dataset _breast cancer_, disponible en el repositorio UCI y también incluido en el conjunto de datasets de prueba de Sklearn. \n",
    "\n",
    "El dataset contiene 569 registros correspondientes a pacientes de cáncer de mama. Los atributos se corresponden con métricas calculadas sobre las células identificadas en imágenes de biopsias. Para cada paciente se realizan 10 métricas sobre varias células, y para cada métrica se registran la media, desviación estándar y peor resultado de todos valores. La clase a predecir es $0$ ó $1$ en función de que el tumor sea maligo o no."
   ]
  },
  {
   "cell_type": "code",
   "execution_count": 5,
   "metadata": {},
   "outputs": [],
   "source": [
    "# Si quisieramos retornarlo ya en X e y lo hariamos así:\n",
    "(X,y) = load_breast_cancer(return_X_y=True)"
   ]
  },
  {
   "cell_type": "code",
   "execution_count": 8,
   "metadata": {},
   "outputs": [
    {
     "name": "stdout",
     "output_type": "stream",
     "text": [
      "Index(['mean radius', 'mean texture', 'mean perimeter', 'mean area',\n",
      "       'mean smoothness', 'mean compactness', 'mean concavity',\n",
      "       'mean concave points', 'mean symmetry', 'mean fractal dimension',\n",
      "       'radius error', 'texture error', 'perimeter error', 'area error',\n",
      "       'smoothness error', 'compactness error', 'concavity error',\n",
      "       'concave points error', 'symmetry error', 'fractal dimension error',\n",
      "       'worst radius', 'worst texture', 'worst perimeter', 'worst area',\n",
      "       'worst smoothness', 'worst compactness', 'worst concavity',\n",
      "       'worst concave points', 'worst symmetry', 'worst fractal dimension',\n",
      "       'class'],\n",
      "      dtype='object')\n",
      "       mean radius  mean texture  mean perimeter    mean area  \\\n",
      "count   569.000000    569.000000      569.000000   569.000000   \n",
      "mean     14.127292     19.289649       91.969033   654.889104   \n",
      "std       3.524049      4.301036       24.298981   351.914129   \n",
      "min       6.981000      9.710000       43.790000   143.500000   \n",
      "25%      11.700000     16.170000       75.170000   420.300000   \n",
      "50%      13.370000     18.840000       86.240000   551.100000   \n",
      "75%      15.780000     21.800000      104.100000   782.700000   \n",
      "max      28.110000     39.280000      188.500000  2501.000000   \n",
      "\n",
      "       mean smoothness  mean compactness  mean concavity  mean concave points  \\\n",
      "count       569.000000        569.000000      569.000000           569.000000   \n",
      "mean          0.096360          0.104341        0.088799             0.048919   \n",
      "std           0.014064          0.052813        0.079720             0.038803   \n",
      "min           0.052630          0.019380        0.000000             0.000000   \n",
      "25%           0.086370          0.064920        0.029560             0.020310   \n",
      "50%           0.095870          0.092630        0.061540             0.033500   \n",
      "75%           0.105300          0.130400        0.130700             0.074000   \n",
      "max           0.163400          0.345400        0.426800             0.201200   \n",
      "\n",
      "       mean symmetry  mean fractal dimension     ...      worst texture  \\\n",
      "count     569.000000              569.000000     ...         569.000000   \n",
      "mean        0.181162                0.062798     ...          25.677223   \n",
      "std         0.027414                0.007060     ...           6.146258   \n",
      "min         0.106000                0.049960     ...          12.020000   \n",
      "25%         0.161900                0.057700     ...          21.080000   \n",
      "50%         0.179200                0.061540     ...          25.410000   \n",
      "75%         0.195700                0.066120     ...          29.720000   \n",
      "max         0.304000                0.097440     ...          49.540000   \n",
      "\n",
      "       worst perimeter   worst area  worst smoothness  worst compactness  \\\n",
      "count       569.000000   569.000000        569.000000         569.000000   \n",
      "mean        107.261213   880.583128          0.132369           0.254265   \n",
      "std          33.602542   569.356993          0.022832           0.157336   \n",
      "min          50.410000   185.200000          0.071170           0.027290   \n",
      "25%          84.110000   515.300000          0.116600           0.147200   \n",
      "50%          97.660000   686.500000          0.131300           0.211900   \n",
      "75%         125.400000  1084.000000          0.146000           0.339100   \n",
      "max         251.200000  4254.000000          0.222600           1.058000   \n",
      "\n",
      "       worst concavity  worst concave points  worst symmetry  \\\n",
      "count       569.000000            569.000000      569.000000   \n",
      "mean          0.272188              0.114606        0.290076   \n",
      "std           0.208624              0.065732        0.061867   \n",
      "min           0.000000              0.000000        0.156500   \n",
      "25%           0.114500              0.064930        0.250400   \n",
      "50%           0.226700              0.099930        0.282200   \n",
      "75%           0.382900              0.161400        0.317900   \n",
      "max           1.252000              0.291000        0.663800   \n",
      "\n",
      "       worst fractal dimension       class  \n",
      "count               569.000000  569.000000  \n",
      "mean                  0.083946    0.627417  \n",
      "std                   0.018061    0.483918  \n",
      "min                   0.055040    0.000000  \n",
      "25%                   0.071460    0.000000  \n",
      "50%                   0.080040    1.000000  \n",
      "75%                   0.092080    1.000000  \n",
      "max                   0.207500    1.000000  \n",
      "\n",
      "[8 rows x 31 columns]\n",
      "[0 1]\n"
     ]
    },
    {
     "data": {
      "text/plain": [
       "<matplotlib.axes._subplots.AxesSubplot at 0x1d08f9f5ba8>"
      ]
     },
     "execution_count": 8,
     "metadata": {},
     "output_type": "execute_result"
    },
    {
     "data": {
      "image/png": "[encoded data removed]",
      "text/plain": [
       "<Figure size 432x288 with 1 Axes>"
      ]
     },
     "metadata": {
      "needs_background": "light"
     },
     "output_type": "display_data"
    }
   ],
   "source": [
    "# Acceder al dataset disponible en sklearn y crear el dataframe 'X' para los atributos, y la serie 'y' para la clase\n",
    "data_raw = load_breast_cancer()\n",
    "\n",
    "data = pd.DataFrame(data=data_raw['data'], columns=data_raw['feature_names'])\n",
    "data['class'] = data_raw['target']\n",
    "\n",
    "#    - Mostrar información sobre las columnas\n",
    "print(data.columns)\n",
    "\n",
    "#    - Mostrar indicadores estadísticos sobre las columnas\n",
    "print(data.describe())\n",
    "\n",
    "#    - Obtener una matriz numpy con los valores de los datos\n",
    "X = data.drop('class', axis=1).values\n",
    "y = data['class'].values\n",
    "\n",
    "#    - Mostrar los valores de la clase\n",
    "print(data['class'].unique())\n",
    "#    - Mostrar la distribución de los valores de la clase\n",
    "data['class'].plot(kind='hist')"
   ]
  },
  {
   "cell_type": "markdown",
   "metadata": {},
   "source": [
    "## 1. Entrenamiento de un clasificador <a name=\"clasificador\"> </a>\n",
    "\n",
    "Entrenar un clasificador es muy simple en Sklearn. Basta con crear un objeto del estimador que queramos entrenar y ejecutar el método <code>fit</code>. En este notebook usaremos uno de los clasificadores que mejor resultado suele dar de los disponibles en Sklearn: <code>LogisticRegression</code>. \n",
    "\n",
    "### 1.1 ¿Qué es la regresión logística? ¿Es regresión o clasificación? <a name=\"logistica\"> </a>\n",
    "\n",
    "Es una técnica que se usa para predecir el resultado de una variable discreta, es por tanto una _técnica de clasificación_. En su formulación más simple (la binaria) se aprende a estimar la probabilidad de que una instancia pertenezca a la clase positiva de la siguiente forma:\n",
    "- Probabilidades cercanas a $1$ darán lugar a clasificar la instancia como de la clase positiva\n",
    "- Probabilidades cercanas a $0$ darán lugar a clasificar la instancia como de la clase negativa\n",
    "\n",
    "\n",
    "\n",
    "El modelo logístico establece la siguiente relación entre la probabilidad de pertenecer a la clase positiva y los valores de los atributos de la instancia $X$:\n",
    "\n",
    "$$\n",
    "P(X) = P(y=1\\;| \\;x_1, x_2, ..., x_n)  = \\frac{1}{1+exp(-\\alpha-\\beta_1x_1-\\beta_2x_2...-\\beta_nx_n)}\n",
    "$$\n",
    "\n",
    "A este tipo de funciones se les denomina _logísticas_ (de ahí el nombre _regresión logística_).\n",
    "\n",
    "Se puede generalizar a una clasificación no binaria (con $k$ categorías) mediante la construcción de $k-1$ clasificadores binarios.\n",
    "\n",
    "La función _logit_ nos permite convertir el problema de estimar la probablilidad en un problema de regresión lineal. Esta es la función _logit_:\n",
    "$$\n",
    "logit(p) = ln(\\frac{p}{1-p})\n",
    "$$\n",
    "\n",
    "Y mediante una serie de transformaciones se demuestra que:\n",
    "\n",
    "$$\n",
    "logit(P(y=1\\;| \\;x_1, x_2, ..., x_n)) = \\alpha+\\beta_1x_1+\\beta_2x_2...+\\beta_nx_n\n",
    "$$\n",
    "\n",
    "Gracias a usar la función _logit_ como función de enlace se consigue una formulación lineal del problema, lo que permite la aplicación de técnicas de regresión lineal (de ahí el nombre _regresión_ logística)  para el aprendizaje de los coeficientes $\\alpha$ y $\\beta_i$.\n",
    "\n",
    "\n",
    "\n",
    "### 1.2 Estimadores de Sklearn (_fit_, _predict_ y _predict proba_) <a name=\"estimadores\"> </a>\n",
    "\n",
    "<code>Sklearn</code> es un paquete muy complejo, y en este notebook solo usaremos algunos elementos del mismo. Los tres conceptos principales para comprender cómo se trabaja con <code>sklearn</code> son:\n",
    "- **Estimador**: es el mecanismo a través del cual se implementan los distintos algoritmos de aprendizaje automático disponibles en <code>sklearn</code>. Para crear un objeto estimador solo hace falta conocer el nombre de la clase que lo implementa. Por ejemplo <code>clasificador = LogisticRegression()</code>\n",
    "- **fit**: Es el método que se usa para entrenar un estimador. Es una propiedad del estimador, y basta con pasarle la matriz $X$ y el vector $y$. Por ejemplo, <code>clasificador.fit(X,y)</code> \n",
    "- **predict**: Es el método que se usa para predecir a partir de un estimador entrenada. Es una propiedad del estimador, y basta con pasarle la matriz $X\\_test$ con las instancias que se desean clasificar. Por ejemplo, <code>clasificador.predict(X_test)</code>"
   ]
  },
  {
   "cell_type": "code",
   "execution_count": 9,
   "metadata": {},
   "outputs": [
    {
     "data": {
      "text/plain": [
       "LogisticRegression(C=1.0, class_weight=None, dual=False, fit_intercept=True,\n",
       "          intercept_scaling=1, max_iter=100000, multi_class='warn',\n",
       "          n_jobs=None, penalty='l2', random_state=None, solver='lbfgs',\n",
       "          tol=0.0001, verbose=0, warm_start=False)"
      ]
     },
     "execution_count": 9,
     "metadata": {},
     "output_type": "execute_result"
    }
   ],
   "source": [
    "# EJERCICIO: crear un estimador de la clase LogisticRegression y entrenarlo con el dataset <X,y>\n",
    "clf = LogisticRegression(solver='lbfgs', max_iter=100000)\n",
    "\n",
    "clf.fit(X, y)"
   ]
  },
  {
   "cell_type": "markdown",
   "metadata": {},
   "source": [
    "Una vez entrenado un clasificador, podemos usarlo para predecir la clase de un conjunto de instancias con el método <code>predict</code>. Muchos estimadores nos proporcionan también las probabilidades de cada una de las clases gracias al método <code>predict_proba</code>."
   ]
  },
  {
   "cell_type": "code",
   "execution_count": 13,
   "metadata": {},
   "outputs": [
    {
     "data": {
      "text/plain": [
       "array([0, 0, 0, 1, 0, 0, 0, 0, 0, 0])"
      ]
     },
     "execution_count": 13,
     "metadata": {},
     "output_type": "execute_result"
    }
   ],
   "source": [
    "# EJERCICIO: predecir la clase de los primeros 10 valores de X con el clasificador entrenado anteriormente\n",
    "clf.predict(X[0:10])"
   ]
  },
  {
   "cell_type": "code",
   "execution_count": 14,
   "metadata": {
    "scrolled": false
   },
   "outputs": [
    {
     "data": {
      "text/plain": [
       "array([[1.00000000e+00, 2.69187651e-15],\n",
       "       [9.99999980e-01, 2.00268142e-08],\n",
       "       [9.99999962e-01, 3.76756189e-08],\n",
       "       [4.93931576e-01, 5.06068424e-01],\n",
       "       [9.99991776e-01, 8.22423537e-06],\n",
       "       [8.00346768e-01, 1.99653232e-01],\n",
       "       [9.99999083e-01, 9.17266900e-07],\n",
       "       [9.82428673e-01, 1.75713269e-02],\n",
       "       [9.12940843e-01, 8.70591570e-02],\n",
       "       [9.97444109e-01, 2.55589139e-03]])"
      ]
     },
     "execution_count": 14,
     "metadata": {},
     "output_type": "execute_result"
    }
   ],
   "source": [
    "# EJERCICIO: obtener la probabilidad de cada clase de los primeros 10 valores de X con el clasificador entrenado anteriormente\n",
    "clf.predict_proba(X[0:10])"
   ]
  },
  {
   "cell_type": "code",
   "execution_count": 26,
   "metadata": {},
   "outputs": [],
   "source": [
    "preds = clf.predict_proba(X[0:10])"
   ]
  },
  {
   "cell_type": "code",
   "execution_count": 27,
   "metadata": {},
   "outputs": [
    {
     "data": {
      "text/plain": [
       "array([[1.00000000e+00, 2.69187651e-15],\n",
       "       [9.99999980e-01, 2.00268142e-08],\n",
       "       [9.99999962e-01, 3.76756189e-08],\n",
       "       [4.93931576e-01, 5.06068424e-01],\n",
       "       [9.99991776e-01, 8.22423537e-06],\n",
       "       [8.00346768e-01, 1.99653232e-01],\n",
       "       [9.99999083e-01, 9.17266900e-07],\n",
       "       [9.82428673e-01, 1.75713269e-02],\n",
       "       [9.12940843e-01, 8.70591570e-02],\n",
       "       [9.97444109e-01, 2.55589139e-03]])"
      ]
     },
     "execution_count": 27,
     "metadata": {},
     "output_type": "execute_result"
    }
   ],
   "source": [
    "preds"
   ]
  },
  {
   "cell_type": "code",
   "execution_count": 28,
   "metadata": {},
   "outputs": [
    {
     "data": {
      "text/plain": [
       "array([0, 0, 0, 1, 0, 0, 0, 0, 0, 0], dtype=int64)"
      ]
     },
     "execution_count": 28,
     "metadata": {},
     "output_type": "execute_result"
    }
   ],
   "source": [
    "# Así se podrían convertir las probabilidades de nuevo en clases, si hiciera falta\n",
    "preds = np.argmax(preds,axis=1)"
   ]
  },
  {
   "cell_type": "code",
   "execution_count": 21,
   "metadata": {},
   "outputs": [
    {
     "data": {
      "text/plain": [
       "array([0, 0, 0, 1, 0, 0, 0, 0, 0, 0], dtype=int64)"
      ]
     },
     "execution_count": 21,
     "metadata": {},
     "output_type": "execute_result"
    }
   ],
   "source": [
    "preds"
   ]
  },
  {
   "cell_type": "markdown",
   "metadata": {},
   "source": [
    "## 2. Evaluación _train/test_ <a name=\"evaluacion_tt\"> </a>\n",
    "Las predicciones anteriores se han hecho sobre los mismos datos usados para entrenar el modelo. Para poder evaluar un clasificador de forma fiable es necesario usar datos distintos para el entrenamiento y la validación. Una manera de hacerlo es mediante una partición _train/test_ de los datos originales. En esta sección veremos cómo hacer este tipo de particiones con Sklearn y las utilizaremos para calcular una de las métricas de evaluación más comunes: el _accuracy_.\n",
    "\n",
    "### 2.1 Separación entrenamiento y validación <a name=\"separacion\"> </a>"
   ]
  },
  {
   "cell_type": "code",
   "execution_count": 29,
   "metadata": {},
   "outputs": [],
   "source": [
    "# EJERCICIO: dividir el corpus <X, y> en dos <X_train, y_train> y <X_test, y_test> con una distribución 80%-20%\n",
    "X_train, X_test, y_train, y_test = train_test_split(X, y, test_size=0.20, random_state=123)"
   ]
  },
  {
   "cell_type": "code",
   "execution_count": 30,
   "metadata": {},
   "outputs": [
    {
     "data": {
      "text/plain": [
       "LogisticRegression(C=1.0, class_weight=None, dual=False, fit_intercept=True,\n",
       "          intercept_scaling=1, max_iter=100000, multi_class='warn',\n",
       "          n_jobs=None, penalty='l2', random_state=None, solver='lbfgs',\n",
       "          tol=0.0001, verbose=0, warm_start=False)"
      ]
     },
     "execution_count": 30,
     "metadata": {},
     "output_type": "execute_result"
    }
   ],
   "source": [
    "# EJERCICIO: entrenar un clasificador con el corpus <X_train, y_train>\n",
    "clf = LogisticRegression(solver='lbfgs', max_iter=100000)\n",
    "\n",
    "clf.fit(X_train, y_train)"
   ]
  },
  {
   "cell_type": "code",
   "execution_count": 31,
   "metadata": {},
   "outputs": [
    {
     "data": {
      "text/plain": [
       "array([1, 1, 0, 1, 0, 1, 1, 1, 1, 1, 1, 0, 0, 1, 0, 1, 1, 1, 1, 1, 0, 0,\n",
       "       1, 1, 1, 0, 0, 1, 0, 1, 0, 1, 1, 1, 0, 1, 1, 1, 1, 0, 0, 1, 0, 1,\n",
       "       0, 1, 0, 0, 1, 0, 0, 0, 1, 1, 1, 0, 1, 0, 0, 1, 0, 1, 1, 1, 1, 0,\n",
       "       1, 1, 1, 0, 1, 1, 0, 1, 0, 1, 1, 0, 0, 0, 1, 0, 0, 1, 1, 1, 0, 1,\n",
       "       0, 1, 0, 1, 1, 0, 1, 1, 1, 1, 1, 1, 1, 1, 1, 1, 1, 1, 1, 1, 1, 1,\n",
       "       1, 1, 1, 0])"
      ]
     },
     "execution_count": 31,
     "metadata": {},
     "output_type": "execute_result"
    }
   ],
   "source": [
    "# EJERCICIO: predecir la clase para las instancias de X_test y guardar las predicciones en y_test_pred\n",
    "y_test_pred = clf.predict(X_test)\n",
    "y_test_pred"
   ]
  },
  {
   "cell_type": "markdown",
   "metadata": {},
   "source": [
    "### 2.2 Cálculo del accuracy <a name=\"accuracy\"> </a>"
   ]
  },
  {
   "cell_type": "code",
   "execution_count": 32,
   "metadata": {},
   "outputs": [
    {
     "data": {
      "text/plain": [
       "0.9824561403508771"
      ]
     },
     "execution_count": 32,
     "metadata": {},
     "output_type": "execute_result"
    }
   ],
   "source": [
    "# EJERCICIO: calcular el accuracy de las predicciones comparando y_test e y_test_pred\n",
    "(y_test == y_test_pred).sum()/(y_test.shape[0])"
   ]
  },
  {
   "cell_type": "markdown",
   "metadata": {},
   "source": [
    "### 2.3 Probabilidades de pertenencia <a name=\"pertenencia\"> </a>"
   ]
  },
  {
   "cell_type": "code",
   "execution_count": null,
   "metadata": {},
   "outputs": [],
   "source": [
    "# EJERCICIO: calcular las probabilidades de cada clase para las instancias de X_test y guardarlas en y_test_proba\n",
    "y_test_proba = clf.predict_proba(X_test)\n",
    "y_test_proba"
   ]
  },
  {
   "cell_type": "markdown",
   "metadata": {},
   "source": [
    "Como podemos observar aparecen dos probabilidades para cada fila: la probabilidad de elegir la clase $0$ y la probabilidad de elegir la clase $1$. Un análisis de la distribución de estas probabilidades, nos dará pistas sobre si el conjunto de datos a clasificar está _bien separado_. Si es así, habrá pocos casos dudosos al clasificador le costará menos trabajo decidir."
   ]
  },
  {
   "cell_type": "code",
   "execution_count": 12,
   "metadata": {},
   "outputs": [
    {
     "data": {
      "text/plain": [
       "(0, 1)"
      ]
     },
     "execution_count": 12,
     "metadata": {},
     "output_type": "execute_result"
    },
    {
     "data": {
      "image/png": "[encoded data removed]",
      "text/plain": [
       "<Figure size 432x288 with 1 Axes>"
      ]
     },
     "metadata": {
      "needs_background": "light"
     },
     "output_type": "display_data"
    }
   ],
   "source": [
    "# EJERCICIO: mostrar con un histograma la distribución de la probabilidad de pertenecer a la clase 1\n",
    "sns.distplot(y_test_proba[:, 1], bins=15)\n",
    "plt.xlim(0, 1)"
   ]
  },
  {
   "cell_type": "code",
   "execution_count": 13,
   "metadata": {},
   "outputs": [
    {
     "data": {
      "text/plain": [
       "(0, 1)"
      ]
     },
     "execution_count": 13,
     "metadata": {},
     "output_type": "execute_result"
    },
    {
     "data": {
      "image/png": "[encoded data removed]",
      "text/plain": [
       "<Figure size 432x288 with 1 Axes>"
      ]
     },
     "metadata": {
      "needs_background": "light"
     },
     "output_type": "display_data"
    }
   ],
   "source": [
    "# EJERCICIO: mostrar con un histograma la distribución de la probabilidad de pertenecer a la clase 0\n",
    "sns.distplot(y_test_proba[:, 0], bins=15)\n",
    "plt.xlim(0, 1)"
   ]
  },
  {
   "cell_type": "markdown",
   "metadata": {},
   "source": [
    "## 3. Evaluación mediante validación cruzada <a name=\"evaluacion_cruzada\"> </a>\n",
    "\n",
    "La evaluación _train/test_ tiene dos principales inconvenientes:\n",
    "- Desperdicia parte del material de entrenamiento.\n",
    "- Los resultados son dependientes de la partición, pudiendo ser sensiblemente distintos con otras particiones.\n",
    "\n",
    "La validación cruzada es un medio para mitigar ambos efectos. Consiste en dividir el dataset en varias carpetas y realizar diferentes evaluaciones usando en cada una de ellas una carpeta distinta como _test_ y el resto de carpetas como _train_. El resultado final de la evaluación se puede calcular mediante la media de todas las evaluaciones.\n",
    "\n",
    "Los métodos que usaremos son:\n",
    "- **cross_val_predict**: usa por turnos todas las instancias de $X$ tanto para entrenar, como para predecir, y devuelve un vector $y\\_pred$ con las predicciones obtenidas para todas las instancias de $x$. \n",
    "- **cross_val_score**: usa por turnos todas las instancias de $X$ tanto para entrenar, como para evaluar, y devuelve una métrica de evaluación (por defecto es la proporción de aciertos)."
   ]
  },
  {
   "cell_type": "code",
   "execution_count": 46,
   "metadata": {},
   "outputs": [],
   "source": [
    "# EJERCICIO: predecir la clase de todas las instancias mediante validación cruzada y guardar las prediccciones en y_pred\n",
    "clf = LogisticRegression(solver='lbfgs', max_iter=100000)\n",
    "\n",
    "y_pred = cross_val_predict(clf, X, y, cv=5)"
   ]
  },
  {
   "cell_type": "code",
   "execution_count": 47,
   "metadata": {},
   "outputs": [],
   "source": [
    "# EJERCICIO: calcular las probabilidades de cada clase para todas las instancias mediante validación cruzada y guardarlas en y_proba\n",
    "clf = LogisticRegression(solver='lbfgs', max_iter=100000)\n",
    "\n",
    "y_proba = cross_val_predict(clf, X, y, cv=5, method='predict_proba')"
   ]
  },
  {
   "cell_type": "code",
   "execution_count": 48,
   "metadata": {},
   "outputs": [],
   "source": [
    "# EJERCICIO: calcular el accuracy de las predicciones sobre todas las instancias mediante validación cruzada\n",
    "clf = LogisticRegression(solver='lbfgs', max_iter=100000)\n",
    "\n",
    "# retornara el accuracy para cada uno de los folds.\n",
    "y_acc = cross_val_score(clf, X, y, cv=5)"
   ]
  },
  {
   "cell_type": "code",
   "execution_count": 49,
   "metadata": {},
   "outputs": [
    {
     "data": {
      "text/plain": [
       "array([0.93913043, 0.94782609, 0.98230088, 0.92920354, 0.95575221])"
      ]
     },
     "execution_count": 49,
     "metadata": {},
     "output_type": "execute_result"
    }
   ],
   "source": [
    "y_acc"
   ]
  },
  {
   "cell_type": "code",
   "execution_count": 50,
   "metadata": {},
   "outputs": [
    {
     "name": "stderr",
     "output_type": "stream",
     "text": [
      "C:\\Users\\Belladona\\Anaconda3\\envs\\ztdl\\lib\\site-packages\\scipy\\stats\\stats.py:1713: FutureWarning: Using a non-tuple sequence for multidimensional indexing is deprecated; use `arr[tuple(seq)]` instead of `arr[seq]`. In the future this will be interpreted as an array index, `arr[np.array(seq)]`, which will result either in an error or a different result.\n",
      "  return np.add.reduce(sorted[indexer] * weights, axis=axis) / sumval\n"
     ]
    },
    {
     "data": {
      "text/plain": [
       "<matplotlib.axes._subplots.AxesSubplot at 0x1d0b3220fd0>"
      ]
     },
     "execution_count": 50,
     "metadata": {},
     "output_type": "execute_result"
    },
    {
     "data": {
      "image/png": "[encoded data removed]",
      "text/plain": [
       "<Figure size 432x288 with 1 Axes>"
      ]
     },
     "metadata": {
      "needs_background": "light"
     },
     "output_type": "display_data"
    }
   ],
   "source": [
    "# EJERCICIO:\n",
    "#    - Calcular el accuracy con distintos números de carpetas en la validación cruzada (p.e. de 2 a 10)\n",
    "#    - Mostrar los resultados en una gráfica\n",
    "\n",
    "scores = list()\n",
    "folds = list(range(2, 11))\n",
    "\n",
    "for fold in folds:\n",
    "    clf = LogisticRegression(solver='lbfgs', max_iter=100000)\n",
    "\n",
    "    y_proba = cross_val_score(clf, X, y, cv=fold).mean()\n",
    "    \n",
    "    scores.append(y_proba)\n",
    "\n",
    "sns.regplot(x='x', y='y', data=pd.DataFrame({'x': folds, 'y': scores}))"
   ]
  },
  {
   "cell_type": "markdown",
   "metadata": {},
   "source": [
    "## 4. Matriz de confusión, _accuracy_, precisón, cobertura, medida f1, TPR y FPR <a name=\"matriz_cf\"> </a>"
   ]
  },
  {
   "cell_type": "markdown",
   "metadata": {},
   "source": [
    "A partir de esta sección trabajaremos sobre los resultados de la validación cruzada (mediante las series <code>y</code>, <code>y_pred</code> e <code>y_proba</code>) aunque el análisis podía haberse hecho perfectamente con una evaluación _train/test_. Mostraremos cómo calcular distintas métricas de evaluación. En muchas ocasiones lo haremos de dos formas distintas:\n",
    "- Con un método ofrecido por Sklearn que suele recibir <code>y</code> e <code>y_pred</code>.\n",
    "- A partir de las celdas de la matriz de confusión.\n",
    "\n",
    "### 4.1 Número de aciertos y fallos: TP, FP, TN, FN <a name=\"aciertos_fallos\"> </a>\n",
    "\n",
    "La matriz de confusión muestra el número de veces que se han producido los distintos tipos de aciertos y fallos. En una clasificación binaria tiene cuatro celdas que suelen denominarse con los siguientes nombres:\n",
    "- TP: _true positives_\n",
    "- TN: _true negatives_\n",
    "- FP: _false positives_\n",
    "- FN: _false negatives_"
   ]
  },
  {
   "cell_type": "code",
   "execution_count": 51,
   "metadata": {},
   "outputs": [],
   "source": [
    "clf = LogisticRegression(solver='lbfgs', max_iter=100000)\n",
    "\n",
    "y_pred = cross_val_predict(clf, X, y, cv=5)"
   ]
  },
  {
   "cell_type": "code",
   "execution_count": 52,
   "metadata": {},
   "outputs": [],
   "source": [
    "clf = LogisticRegression(solver='lbfgs', max_iter=100000)\n",
    "\n",
    "y_proba = cross_val_predict(clf, X, y, cv=5, method='predict_proba')"
   ]
  },
  {
   "cell_type": "code",
   "execution_count": 53,
   "metadata": {},
   "outputs": [
    {
     "data": {
      "text/plain": [
       "<matplotlib.axes._subplots.AxesSubplot at 0x1d0aed542e8>"
      ]
     },
     "execution_count": 53,
     "metadata": {},
     "output_type": "execute_result"
    },
    {
     "data": {
      "image/png": "[encoded data removed]",
      "text/plain": [
       "<Figure size 432x288 with 2 Axes>"
      ]
     },
     "metadata": {
      "needs_background": "light"
     },
     "output_type": "display_data"
    }
   ],
   "source": [
    "# EJERCICIO: crear la matriz de confusión y mostrarla mediante un mapa de calor\n",
    "sns.heatmap(metrics.confusion_matrix(y, y_pred),annot=True)"
   ]
  },
  {
   "cell_type": "code",
   "execution_count": 56,
   "metadata": {},
   "outputs": [],
   "source": [
    "# EJERCICIO: guardar los valores de la matriz de confusión en sus variables correspondientes (TP, TN, FP, FN)\n",
    "TN, FP, FN, TP = metrics.confusion_matrix(y, y_pred).ravel() # ravel() returns a flattened array"
   ]
  },
  {
   "cell_type": "markdown",
   "metadata": {},
   "source": [
    "Una de las métricas más usadas es el _accuracy_ que mide directamente el porcentaje de aciertos. Si el dataset está balanceado es un buen indicador, pero si alguna de las clases es muy mayoritaria (o minoritaria) la información que nos dá la métrica puede ser bastante engañosa."
   ]
  },
  {
   "cell_type": "code",
   "execution_count": 57,
   "metadata": {},
   "outputs": [
    {
     "name": "stdout",
     "output_type": "stream",
     "text": [
      "0.9507908611599297\n",
      "0.9507908611599297\n"
     ]
    }
   ],
   "source": [
    "# EJERCICIO: calcular la medida 'accuracy' de dos formas distintas:\n",
    "#    - Con el método proporcionado por Sklearn\n",
    "#    - A partir de los componentes de la matriz de confusión\n",
    "# accuracy = (TP + TN) / (TP + TN + FP + FN)\n",
    "\n",
    "print(metrics.accuracy_score(y, y_pred))\n",
    "\n",
    "accuracy = (TP + TN) / (TP + TN + FP + FN)\n",
    "\n",
    "print(accuracy)"
   ]
  },
  {
   "cell_type": "code",
   "execution_count": 59,
   "metadata": {},
   "outputs": [],
   "source": [
    "# EJERCICIO: definir una función que reciba un clasificador y muestre el accuracy obtenido y la matriz de confusión\n",
    "def get_metrics(classifier, X, y):\n",
    "    y_pred = cross_val_predict(clf, X, y, cv=5)\n",
    "    print(f'Accuracy: {metrics.accuracy_score(y, y_pred)*100}%')\n",
    "    print(f'Confusion matrix: {metrics.confusion_matrix(y, y_pred)}')"
   ]
  },
  {
   "cell_type": "markdown",
   "metadata": {},
   "source": [
    "## 4.2 accuracy, precision, recall y f1 <a name=\"medidas\"> </a>\n",
    "\n",
    "El siguiente paquete de métricas es el formado por la precisión, cobertura (_recall_) y medida f1. Son métricas que dan diferente importancia al tipo de error (p.e. falsos positivos o falsos negativos en clasificación binaria). Pueden ser de utilidad para sistemas en los que nos preocupan más unos errores que otros: por ejemplo, es menos grave dejar pasar un correo _spam_ que eliminar un correo correcto. El significado intuitivo de las métricas es el siguiente:\n",
    "- _precision_: grado de acierto en las instancias propuestas como positivas.\n",
    "- _recall_: porcentaje de recuperación del total de las instancias positivas.\n",
    "- _f1_ : media armónica de precisión y cobertura.\n",
    "\n",
    "Al combinar dos métricas complementarias, la medida _f1_ es apropiada para datasets que no estén bien balanceados."
   ]
  },
  {
   "cell_type": "code",
   "execution_count": 24,
   "metadata": {},
   "outputs": [
    {
     "name": "stdout",
     "output_type": "stream",
     "text": [
      "0.9532967032967034\n",
      "0.9532967032967034\n"
     ]
    }
   ],
   "source": [
    "# EJERCICIO: calcular la medida 'precisión' de dos formas distintas:\n",
    "#    - Con el método proporcionado por Sklearn\n",
    "#    - A partir de los componentes de la matriz de confusión\n",
    "print(metrics.precision_score(y, y_pred))\n",
    "print(TP/(TP+FP))"
   ]
  },
  {
   "cell_type": "code",
   "execution_count": 25,
   "metadata": {},
   "outputs": [
    {
     "name": "stdout",
     "output_type": "stream",
     "text": [
      "0.9719887955182073\n",
      "0.9719887955182073\n"
     ]
    }
   ],
   "source": [
    "# EJERCICIO: calcular la medida 'cobertura' (o recall) de dos formas distintas:\n",
    "#    - Con el método proporcionado por Sklearn\n",
    "#    - A partir de los componentes de la matriz de confusión\n",
    "print(metrics.recall_score(y, y_pred))\n",
    "print(TP/(TP+FN))"
   ]
  },
  {
   "cell_type": "code",
   "execution_count": 26,
   "metadata": {},
   "outputs": [
    {
     "name": "stdout",
     "output_type": "stream",
     "text": [
      "0.9625520110957004\n",
      "0.9625520110957004\n"
     ]
    }
   ],
   "source": [
    "# EJERCICIO: calcular la medida 'f1' de dos formas distintas:\n",
    "#    - Con el método proporcionado por Sklearn\n",
    "#    - A partir de las medidas 'precisión' y 'cobertura'\n",
    "print(metrics.f1_score(y, y_pred))\n",
    "print((2*TP)/((2*TP) + FP + FN))"
   ]
  },
  {
   "cell_type": "markdown",
   "metadata": {},
   "source": [
    "## 4.3 _True Positive Rate_ y _False Positive Rate_ <a name=\"rates\"> </a>\n",
    "Las siguientes dos métricas también suelen ir de la mano y, al igual que la precisión y la cobertura, son complementarias. Se trata de TPR (_True Positive Rate_) y FPR (_False Positive Rate_) y se definen de la siguiente forma:\n",
    "\n",
    "- TPR: positivos correctos (TP) dividido entre todos los positivos (TP+FN). También se denomina a esta métrica _sensibilidad_ y _cobertura_.\n",
    "- FPR: positivos erróneos (FP) dividido entre todos los negativos (FP+TN). A la métrica $1-FPR$ también se le denomina _especificidad_.\n",
    "\n",
    "Ambas métricas se suelen combinar en una curva, denominada ROC, que veremos en la siguiente sección."
   ]
  },
  {
   "cell_type": "code",
   "execution_count": 27,
   "metadata": {},
   "outputs": [
    {
     "name": "stdout",
     "output_type": "stream",
     "text": [
      "0.9719887955182073\n"
     ]
    }
   ],
   "source": [
    "# EJERCICIO: calcular la medida TPR a partir de los componentes de la matriz de confusión\n",
    "TPR = TP / (TP+FN)\n",
    "print(TPR)"
   ]
  },
  {
   "cell_type": "code",
   "execution_count": 28,
   "metadata": {},
   "outputs": [
    {
     "name": "stdout",
     "output_type": "stream",
     "text": [
      "0.08018867924528301\n"
     ]
    }
   ],
   "source": [
    "# EJERCICIO: calcular la medida FPR a partir de los componentes de la matriz de confusión\n",
    "FPR = FP / (FP+TN)\n",
    "print(FPR)"
   ]
  },
  {
   "cell_type": "markdown",
   "metadata": {},
   "source": [
    "## 5. Curva ROC (TPR-FPR) y curva _Precision-Recall_ <a name=\"curvas\"> </a>\n",
    "\n",
    "Ambas curvas (y sus correspondientes métricas de agregación) se benefician de la complementariedad de las métricas en las que se apoyan para definir unas métricas que tengan en cuenta los distintos tipos de errores que se pueden cometer.\n",
    "\n",
    "La principal contribución de estas curvas con respecto a otras métricas es que muestran la calidad del clasificador en distintos escenarios de decisión, diferenciados por el umbral de probabilidad usado para determinar la clase. Esto se puede hacer siempre que dispongamos las probabilidades generadas por <code>predict_proba</code>:\n",
    "\n",
    "![image.png](attachment:image.png)\n",
    "\n",
    "Probando distintos umbrales de decisión, obtendremos métricas distintas. Y es, precisamente, con esos puntos con los que se trazan ambas curvas. La definición intuitiva de cada una de ellas es la siguente:\n",
    "- Curva ROC: unión de puntos (FPR, TPR) con distintos umbrales de decisión. La métrica ROC-AUC resume la curva en un único valor numérico mediante el área que queda bajo ella.\n",
    "- Curva _Precision-Recall_: unión de puntos (_recall_, _precision_) con distintos umbrales de decisión. La métrica _average precision score_ resume la curva en un único valor numérico mediante el área que queda bajo ella.\n",
    "\n",
    "El hecho de que ambas curvas integren métricas complementarias y que se apoyen en distintos umbrales de decisión, las hacen muy apropiadas para situaciones en las que el dataset no está balanceado."
   ]
  },
  {
   "cell_type": "code",
   "execution_count": 60,
   "metadata": {},
   "outputs": [],
   "source": [
    "# Antes de nada debemos disponer de las probabilidades para la clase 1\n",
    "# Usaremos 'y_proba' (validación cruzada), aunque también podría hacerse sobre 'y_test_proba' (train/test)\n",
    "y_proba_clase1 =  pd.Series(y_proba[:,1])"
   ]
  },
  {
   "cell_type": "code",
   "execution_count": 63,
   "metadata": {},
   "outputs": [
    {
     "data": {
      "text/plain": [
       "(array([0.        , 0.        , 0.        , 0.00471698, 0.00471698,\n",
       "        0.00943396, 0.00943396, 0.01886792, 0.01886792, 0.02358491,\n",
       "        0.02358491, 0.02830189, 0.02830189, 0.03301887, 0.03301887,\n",
       "        0.04245283, 0.04245283, 0.04716981, 0.04716981, 0.05188679,\n",
       "        0.05188679, 0.05660377, 0.05660377, 0.07075472, 0.07075472,\n",
       "        0.0754717 , 0.0754717 , 0.08018868, 0.08018868, 0.08490566,\n",
       "        0.08490566, 0.10377358, 0.10377358, 0.13207547, 0.13207547,\n",
       "        0.13679245, 0.13679245, 0.14622642, 0.14622642, 0.16509434,\n",
       "        0.16509434, 1.        ]),\n",
       " array([0.        , 0.00280112, 0.59943978, 0.59943978, 0.77871148,\n",
       "        0.77871148, 0.87955182, 0.87955182, 0.90196078, 0.90196078,\n",
       "        0.9047619 , 0.9047619 , 0.93277311, 0.93277311, 0.93557423,\n",
       "        0.93557423, 0.93837535, 0.93837535, 0.94397759, 0.94397759,\n",
       "        0.95798319, 0.95798319, 0.96358543, 0.96358543, 0.96638655,\n",
       "        0.96638655, 0.96918768, 0.96918768, 0.9719888 , 0.9719888 ,\n",
       "        0.97478992, 0.97478992, 0.97759104, 0.97759104, 0.98319328,\n",
       "        0.98319328, 0.98879552, 0.98879552, 0.99159664, 0.99159664,\n",
       "        1.        , 1.        ]),\n",
       " array([1.99999996e+00, 9.99999956e-01, 9.95127996e-01, 9.95127070e-01,\n",
       "        9.73405407e-01, 9.72224801e-01, 9.22462531e-01, 9.17701902e-01,\n",
       "        8.74577190e-01, 8.68181096e-01, 8.64042662e-01, 8.61979507e-01,\n",
       "        8.24370214e-01, 8.15521192e-01, 8.12942211e-01, 7.95991775e-01,\n",
       "        7.94051738e-01, 7.90888333e-01, 7.61330528e-01, 7.21934037e-01,\n",
       "        6.93931259e-01, 6.62021611e-01, 6.51997657e-01, 6.26029954e-01,\n",
       "        5.64035347e-01, 5.61205932e-01, 5.46813510e-01, 5.08591922e-01,\n",
       "        4.99001892e-01, 4.96316036e-01, 4.51602100e-01, 3.55908866e-01,\n",
       "        3.53307630e-01, 2.53945835e-01, 1.96556361e-01, 1.94823262e-01,\n",
       "        1.83102767e-01, 1.68856871e-01, 1.44871668e-01, 1.23422640e-01,\n",
       "        9.07293958e-02, 2.00904158e-38]))"
      ]
     },
     "execution_count": 63,
     "metadata": {},
     "output_type": "execute_result"
    }
   ],
   "source": [
    "# EJERCICIO: calcular los puntos de la curva ROC mediante el método proporcionado por Sklearn\n",
    "metrics.roc_curve(y, y_proba_clase1)"
   ]
  },
  {
   "cell_type": "code",
   "execution_count": 62,
   "metadata": {},
   "outputs": [
    {
     "data": {
      "image/png": "[encoded data removed]",
      "text/plain": [
       "<Figure size 432x288 with 1 Axes>"
      ]
     },
     "metadata": {
      "needs_background": "light"
     },
     "output_type": "display_data"
    }
   ],
   "source": [
    "# EJERCICIO: mostrar gráficamente la curva ROC\n",
    "skplt.metrics.plot_roc(y, y_proba)\n",
    "plt.show()"
   ]
  },
  {
   "cell_type": "code",
   "execution_count": 32,
   "metadata": {},
   "outputs": [
    {
     "data": {
      "text/plain": [
       "0.9907774430526928"
      ]
     },
     "execution_count": 32,
     "metadata": {},
     "output_type": "execute_result"
    }
   ],
   "source": [
    "# EJERCICIO: calcular la métrica ROC-AUC mediante el método proporcionado por Sklearn\n",
    "metrics.roc_auc_score(y, y_proba_clase1)"
   ]
  },
  {
   "cell_type": "code",
   "execution_count": 67,
   "metadata": {},
   "outputs": [],
   "source": [
    "# EJERCICIO: definir una función que reciba un clasificador y muestre la siguiente información:\n",
    "#       - valores FPRs y TPRs\n",
    "#       - valores de los umbrales para la curva roc\n",
    "#       - valor del área bajo la curva\n",
    "#       - gráfica del área bajo la curva\n",
    "#\n",
    "\n",
    "def get_metrics2(classifier, X, y):\n",
    "    y_pred = cross_val_predict(clf, X, y, cv=5)\n",
    "    y_proba = cross_val_predict(clf, X, y, cv=5, method='predict_proba')\n",
    "    \n",
    "    TN, FP, FN, TP = metrics.confusion_matrix(y, y_pred).ravel()\n",
    "    \n",
    "    TPR = TP / (TP+FN)\n",
    "    print(f'TPR: {TPR}')\n",
    "    \n",
    "    FPR = FP / (FP+TN)\n",
    "    print(f'FPR: {FPR}')\n",
    "    \n",
    "    y_proba_clase1 =  pd.Series(y_proba[:,1])\n",
    "    print(f'ROC Curve: {metrics.roc_curve(y, y_proba_clase1)}')\n",
    "    \n",
    "    print(f'AUC ROC: {metrics.roc_auc_score(y, y_proba_clase1)}')\n",
    "    \n",
    "    skplt.metrics.plot_roc(y, y_proba)\n",
    "    plt.show()"
   ]
  },
  {
   "cell_type": "code",
   "execution_count": 34,
   "metadata": {},
   "outputs": [
    {
     "data": {
      "text/plain": [
       "(array([0.91071429, 0.91048593, 0.91025641, 0.91002571, 0.91237113,\n",
       "        0.9121447 , 0.91450777, 0.91688312, 0.91927083, 0.91906005,\n",
       "        0.92146597, 0.92388451, 0.92368421, 0.92612137, 0.92592593,\n",
       "        0.92572944, 0.92819149, 0.928     , 0.93048128, 0.93297587,\n",
       "        0.93548387, 0.93800539, 0.94054054, 0.94308943, 0.94565217,\n",
       "        0.94822888, 0.94808743, 0.95068493, 0.9532967 , 0.95592287,\n",
       "        0.9558011 , 0.95567867, 0.95833333, 0.96100279, 0.96368715,\n",
       "        0.96358543, 0.96629213, 0.96619718, 0.96610169, 0.96600567,\n",
       "        0.96590909, 0.96581197, 0.96857143, 0.96848138, 0.9683908 ,\n",
       "        0.97118156, 0.97109827, 0.97101449, 0.97383721, 0.97667638,\n",
       "        0.97953216, 0.98240469, 0.98235294, 0.98230088, 0.98224852,\n",
       "        0.98219585, 0.98214286, 0.98208955, 0.98203593, 0.98198198,\n",
       "        0.98192771, 0.98489426, 0.98484848, 0.98480243, 0.9847561 ,\n",
       "        0.98776758, 0.98773006, 0.98769231, 0.98765432, 0.9876161 ,\n",
       "        0.98757764, 0.98753894, 0.9875    , 0.98746082, 0.98742138,\n",
       "        0.9873817 , 0.99050633, 0.99365079, 0.99363057, 0.99361022,\n",
       "        0.99358974, 0.99356913, 0.99354839, 0.99352751, 0.99350649,\n",
       "        0.99348534, 0.99346405, 0.99344262, 0.99342105, 0.99339934,\n",
       "        0.99337748, 0.99335548, 0.99333333, 0.99331104, 0.99328859,\n",
       "        0.99326599, 0.99324324, 0.99322034, 0.99319728, 0.99317406,\n",
       "        0.99315068, 0.99312715, 0.99310345, 0.99307958, 0.99305556,\n",
       "        0.99303136, 0.99300699, 0.99298246, 0.99295775, 0.99293286,\n",
       "        0.9929078 , 0.99288256, 0.99642857, 0.99641577, 0.99640288,\n",
       "        0.99638989, 0.99637681, 0.99636364, 0.99635036, 0.996337  ,\n",
       "        0.99632353, 0.99630996, 0.9962963 , 0.99628253, 0.99626866,\n",
       "        0.99625468, 0.9962406 , 0.99622642, 0.99621212, 0.99619772,\n",
       "        0.99618321, 0.99616858, 0.99615385, 0.996139  , 0.99612403,\n",
       "        0.99610895, 0.99609375, 0.99607843, 0.99606299, 0.99604743,\n",
       "        0.99603175, 0.99601594, 0.996     , 0.99598394, 0.99596774,\n",
       "        0.99595142, 0.99593496, 0.99591837, 0.99590164, 0.99588477,\n",
       "        0.99586777, 0.99585062, 0.99583333, 0.9958159 , 0.99579832,\n",
       "        0.99578059, 0.99576271, 0.99574468, 0.9957265 , 0.99570815,\n",
       "        0.99568966, 0.995671  , 0.99565217, 0.99563319, 0.99561404,\n",
       "        0.99559471, 0.99557522, 0.99555556, 0.99553571, 0.9955157 ,\n",
       "        0.9954955 , 0.99547511, 0.99545455, 0.99543379, 0.99541284,\n",
       "        0.99539171, 0.99537037, 0.99534884, 0.9953271 , 0.99530516,\n",
       "        0.99528302, 0.99526066, 0.9952381 , 0.99521531, 0.99519231,\n",
       "        0.99516908, 1.        , 1.        , 1.        , 1.        ,\n",
       "        1.        , 1.        , 1.        , 1.        , 1.        ,\n",
       "        1.        , 1.        , 1.        , 1.        , 1.        ,\n",
       "        1.        , 1.        , 1.        , 1.        , 1.        ,\n",
       "        1.        , 1.        , 1.        , 1.        , 1.        ,\n",
       "        1.        , 1.        , 1.        , 1.        , 1.        ,\n",
       "        1.        , 1.        , 1.        , 1.        , 1.        ,\n",
       "        1.        , 1.        , 1.        , 1.        , 1.        ,\n",
       "        1.        , 1.        , 1.        , 1.        , 1.        ,\n",
       "        1.        , 1.        , 1.        , 1.        , 1.        ,\n",
       "        1.        , 1.        , 1.        , 1.        , 1.        ,\n",
       "        1.        , 1.        , 1.        , 1.        , 1.        ,\n",
       "        1.        , 1.        , 1.        , 1.        , 1.        ,\n",
       "        1.        , 1.        , 1.        , 1.        , 1.        ,\n",
       "        1.        , 1.        , 1.        , 1.        , 1.        ,\n",
       "        1.        , 1.        , 1.        , 1.        , 1.        ,\n",
       "        1.        , 1.        , 1.        , 1.        , 1.        ,\n",
       "        1.        , 1.        , 1.        , 1.        , 1.        ,\n",
       "        1.        , 1.        , 1.        , 1.        , 1.        ,\n",
       "        1.        , 1.        , 1.        , 1.        , 1.        ,\n",
       "        1.        , 1.        , 1.        , 1.        , 1.        ,\n",
       "        1.        , 1.        , 1.        , 1.        , 1.        ,\n",
       "        1.        , 1.        , 1.        , 1.        , 1.        ,\n",
       "        1.        , 1.        , 1.        , 1.        , 1.        ,\n",
       "        1.        , 1.        , 1.        , 1.        , 1.        ,\n",
       "        1.        , 1.        , 1.        , 1.        , 1.        ,\n",
       "        1.        , 1.        , 1.        , 1.        , 1.        ,\n",
       "        1.        , 1.        , 1.        , 1.        , 1.        ,\n",
       "        1.        , 1.        , 1.        , 1.        , 1.        ,\n",
       "        1.        , 1.        , 1.        , 1.        , 1.        ,\n",
       "        1.        , 1.        , 1.        , 1.        , 1.        ,\n",
       "        1.        , 1.        , 1.        , 1.        , 1.        ,\n",
       "        1.        , 1.        , 1.        , 1.        , 1.        ,\n",
       "        1.        , 1.        , 1.        , 1.        , 1.        ,\n",
       "        1.        , 1.        , 1.        , 1.        , 1.        ,\n",
       "        1.        , 1.        , 1.        , 1.        , 1.        ,\n",
       "        1.        , 1.        , 1.        , 1.        , 1.        ,\n",
       "        1.        , 1.        , 1.        , 1.        , 1.        ,\n",
       "        1.        , 1.        , 1.        , 1.        , 1.        ,\n",
       "        1.        , 1.        , 1.        , 1.        , 1.        ,\n",
       "        1.        , 1.        , 1.        , 1.        , 1.        ,\n",
       "        1.        , 1.        , 1.        ]),\n",
       " array([1.        , 0.99719888, 0.99439776, 0.99159664, 0.99159664,\n",
       "        0.98879552, 0.98879552, 0.98879552, 0.98879552, 0.9859944 ,\n",
       "        0.9859944 , 0.9859944 , 0.98319328, 0.98319328, 0.98039216,\n",
       "        0.97759104, 0.97759104, 0.97478992, 0.97478992, 0.97478992,\n",
       "        0.97478992, 0.97478992, 0.97478992, 0.97478992, 0.97478992,\n",
       "        0.97478992, 0.9719888 , 0.9719888 , 0.9719888 , 0.9719888 ,\n",
       "        0.96918768, 0.96638655, 0.96638655, 0.96638655, 0.96638655,\n",
       "        0.96358543, 0.96358543, 0.96078431, 0.95798319, 0.95518207,\n",
       "        0.95238095, 0.94957983, 0.94957983, 0.94677871, 0.94397759,\n",
       "        0.94397759, 0.94117647, 0.93837535, 0.93837535, 0.93837535,\n",
       "        0.93837535, 0.93837535, 0.93557423, 0.93277311, 0.92997199,\n",
       "        0.92717087, 0.92436975, 0.92156863, 0.91876751, 0.91596639,\n",
       "        0.91316527, 0.91316527, 0.91036415, 0.90756303, 0.9047619 ,\n",
       "        0.9047619 , 0.90196078, 0.89915966, 0.89635854, 0.89355742,\n",
       "        0.8907563 , 0.88795518, 0.88515406, 0.88235294, 0.87955182,\n",
       "        0.8767507 , 0.8767507 , 0.8767507 , 0.87394958, 0.87114846,\n",
       "        0.86834734, 0.86554622, 0.8627451 , 0.85994398, 0.85714286,\n",
       "        0.85434174, 0.85154062, 0.8487395 , 0.84593838, 0.84313725,\n",
       "        0.84033613, 0.83753501, 0.83473389, 0.83193277, 0.82913165,\n",
       "        0.82633053, 0.82352941, 0.82072829, 0.81792717, 0.81512605,\n",
       "        0.81232493, 0.80952381, 0.80672269, 0.80392157, 0.80112045,\n",
       "        0.79831933, 0.79551821, 0.79271709, 0.78991597, 0.78711485,\n",
       "        0.78431373, 0.78151261, 0.78151261, 0.77871148, 0.77591036,\n",
       "        0.77310924, 0.77030812, 0.767507  , 0.76470588, 0.76190476,\n",
       "        0.75910364, 0.75630252, 0.7535014 , 0.75070028, 0.74789916,\n",
       "        0.74509804, 0.74229692, 0.7394958 , 0.73669468, 0.73389356,\n",
       "        0.73109244, 0.72829132, 0.7254902 , 0.72268908, 0.71988796,\n",
       "        0.71708683, 0.71428571, 0.71148459, 0.70868347, 0.70588235,\n",
       "        0.70308123, 0.70028011, 0.69747899, 0.69467787, 0.69187675,\n",
       "        0.68907563, 0.68627451, 0.68347339, 0.68067227, 0.67787115,\n",
       "        0.67507003, 0.67226891, 0.66946779, 0.66666667, 0.66386555,\n",
       "        0.66106443, 0.65826331, 0.65546218, 0.65266106, 0.64985994,\n",
       "        0.64705882, 0.6442577 , 0.64145658, 0.63865546, 0.63585434,\n",
       "        0.63305322, 0.6302521 , 0.62745098, 0.62464986, 0.62184874,\n",
       "        0.61904762, 0.6162465 , 0.61344538, 0.61064426, 0.60784314,\n",
       "        0.60504202, 0.6022409 , 0.59943978, 0.59663866, 0.59383754,\n",
       "        0.59103641, 0.58823529, 0.58543417, 0.58263305, 0.57983193,\n",
       "        0.57703081, 0.57703081, 0.57422969, 0.57142857, 0.56862745,\n",
       "        0.56582633, 0.56302521, 0.56022409, 0.55742297, 0.55462185,\n",
       "        0.55182073, 0.54901961, 0.54621849, 0.54341737, 0.54061625,\n",
       "        0.53781513, 0.53501401, 0.53221289, 0.52941176, 0.52661064,\n",
       "        0.52380952, 0.5210084 , 0.51820728, 0.51540616, 0.51260504,\n",
       "        0.50980392, 0.5070028 , 0.50420168, 0.50140056, 0.49859944,\n",
       "        0.49579832, 0.4929972 , 0.49019608, 0.48739496, 0.48459384,\n",
       "        0.48179272, 0.4789916 , 0.47619048, 0.47338936, 0.47058824,\n",
       "        0.46778711, 0.46498599, 0.46218487, 0.45938375, 0.45658263,\n",
       "        0.45378151, 0.45098039, 0.44817927, 0.44537815, 0.44257703,\n",
       "        0.43977591, 0.43697479, 0.43417367, 0.43137255, 0.42857143,\n",
       "        0.42577031, 0.42296919, 0.42016807, 0.41736695, 0.41456583,\n",
       "        0.41176471, 0.40896359, 0.40616246, 0.40336134, 0.40056022,\n",
       "        0.3977591 , 0.39495798, 0.39215686, 0.38935574, 0.38655462,\n",
       "        0.3837535 , 0.38095238, 0.37815126, 0.37535014, 0.37254902,\n",
       "        0.3697479 , 0.36694678, 0.36414566, 0.36134454, 0.35854342,\n",
       "        0.3557423 , 0.35294118, 0.35014006, 0.34733894, 0.34453782,\n",
       "        0.34173669, 0.33893557, 0.33613445, 0.33333333, 0.33053221,\n",
       "        0.32773109, 0.32492997, 0.32212885, 0.31932773, 0.31652661,\n",
       "        0.31372549, 0.31092437, 0.30812325, 0.30532213, 0.30252101,\n",
       "        0.29971989, 0.29691877, 0.29411765, 0.29131653, 0.28851541,\n",
       "        0.28571429, 0.28291317, 0.28011204, 0.27731092, 0.2745098 ,\n",
       "        0.27170868, 0.26890756, 0.26610644, 0.26330532, 0.2605042 ,\n",
       "        0.25770308, 0.25490196, 0.25210084, 0.24929972, 0.2464986 ,\n",
       "        0.24369748, 0.24089636, 0.23809524, 0.23529412, 0.232493  ,\n",
       "        0.22969188, 0.22689076, 0.22408964, 0.22128852, 0.21848739,\n",
       "        0.21568627, 0.21288515, 0.21008403, 0.20728291, 0.20448179,\n",
       "        0.20168067, 0.19887955, 0.19607843, 0.19327731, 0.19047619,\n",
       "        0.18767507, 0.18487395, 0.18207283, 0.17927171, 0.17647059,\n",
       "        0.17366947, 0.17086835, 0.16806723, 0.16526611, 0.16246499,\n",
       "        0.15966387, 0.15686275, 0.15406162, 0.1512605 , 0.14845938,\n",
       "        0.14565826, 0.14285714, 0.14005602, 0.1372549 , 0.13445378,\n",
       "        0.13165266, 0.12885154, 0.12605042, 0.1232493 , 0.12044818,\n",
       "        0.11764706, 0.11484594, 0.11204482, 0.1092437 , 0.10644258,\n",
       "        0.10364146, 0.10084034, 0.09803922, 0.0952381 , 0.09243697,\n",
       "        0.08963585, 0.08683473, 0.08403361, 0.08123249, 0.07843137,\n",
       "        0.07563025, 0.07282913, 0.07002801, 0.06722689, 0.06442577,\n",
       "        0.06162465, 0.05882353, 0.05602241, 0.05322129, 0.05042017,\n",
       "        0.04761905, 0.04481793, 0.04201681, 0.03921569, 0.03641457,\n",
       "        0.03361345, 0.03081232, 0.0280112 , 0.02521008, 0.02240896,\n",
       "        0.01960784, 0.01680672, 0.0140056 , 0.01120448, 0.00840336,\n",
       "        0.00560224, 0.00280112, 0.        ]),\n",
       " array([0.09756471, 0.10852899, 0.11273351, 0.12525037, 0.12573998,\n",
       "        0.12949164, 0.12981883, 0.14092223, 0.14943048, 0.16326033,\n",
       "        0.1703543 , 0.19482096, 0.19949095, 0.20410213, 0.23290038,\n",
       "        0.25308165, 0.2685761 , 0.27919084, 0.28023839, 0.29278598,\n",
       "        0.33078881, 0.34904275, 0.37732521, 0.40597598, 0.44341948,\n",
       "        0.45677637, 0.46237457, 0.49163485, 0.50857391, 0.52604873,\n",
       "        0.54470752, 0.55153758, 0.62368813, 0.63672968, 0.63958691,\n",
       "        0.64111761, 0.65026153, 0.65770132, 0.68853968, 0.70047998,\n",
       "        0.71969815, 0.72704417, 0.76129319, 0.77270682, 0.78841362,\n",
       "        0.78960251, 0.79043918, 0.79542778, 0.80012227, 0.81162314,\n",
       "        0.81355375, 0.8163751 , 0.81724143, 0.82363198, 0.83204176,\n",
       "        0.83331459, 0.84058852, 0.84582142, 0.85384267, 0.85426157,\n",
       "        0.85509593, 0.85729107, 0.86103579, 0.86450474, 0.86665526,\n",
       "        0.86977345, 0.87937256, 0.88085116, 0.88517077, 0.90026975,\n",
       "        0.90798692, 0.9110442 , 0.9125701 , 0.91305604, 0.91449222,\n",
       "        0.91604409, 0.91688294, 0.921737  , 0.92319843, 0.92417935,\n",
       "        0.93569838, 0.93840002, 0.93880818, 0.93896915, 0.94074548,\n",
       "        0.94246169, 0.94271505, 0.94308321, 0.94350707, 0.94729668,\n",
       "        0.94850175, 0.94897995, 0.95069537, 0.95076292, 0.950887  ,\n",
       "        0.95208575, 0.95561661, 0.95581398, 0.95690972, 0.95772783,\n",
       "        0.95781231, 0.95951891, 0.95986575, 0.96051885, 0.96071095,\n",
       "        0.96074134, 0.96136277, 0.9627751 , 0.96668687, 0.96698645,\n",
       "        0.96769032, 0.96865517, 0.96951854, 0.97028338, 0.9716965 ,\n",
       "        0.97190122, 0.97293107, 0.97459104, 0.9758667 , 0.9764557 ,\n",
       "        0.97670027, 0.97727975, 0.97748826, 0.97775076, 0.97781147,\n",
       "        0.978291  , 0.97917937, 0.97951658, 0.98021174, 0.98047839,\n",
       "        0.98086835, 0.98089557, 0.98118451, 0.98134089, 0.98146001,\n",
       "        0.98199553, 0.98213347, 0.98245699, 0.98289349, 0.98314709,\n",
       "        0.98316452, 0.98340168, 0.98343329, 0.98359212, 0.98484264,\n",
       "        0.98504006, 0.98562618, 0.98567863, 0.98603277, 0.98634381,\n",
       "        0.98716821, 0.9874087 , 0.98746499, 0.9875116 , 0.98755753,\n",
       "        0.98841512, 0.98856633, 0.98870334, 0.99040082, 0.9905494 ,\n",
       "        0.99065956, 0.9913911 , 0.99146909, 0.99161088, 0.99178029,\n",
       "        0.99181028, 0.99197664, 0.99224368, 0.99257827, 0.99283127,\n",
       "        0.99355971, 0.99364234, 0.99368046, 0.99388252, 0.99395703,\n",
       "        0.99401494, 0.99429187, 0.99433663, 0.99435544, 0.99451372,\n",
       "        0.99468791, 0.99479656, 0.99491168, 0.99494347, 0.99500635,\n",
       "        0.99518254, 0.99528423, 0.99532211, 0.99532593, 0.99550915,\n",
       "        0.99551939, 0.99552221, 0.99572208, 0.99575602, 0.99585205,\n",
       "        0.99596231, 0.99610262, 0.99612823, 0.9962719 , 0.99631786,\n",
       "        0.99637122, 0.99660582, 0.99682174, 0.99683121, 0.99704776,\n",
       "        0.99709652, 0.9971137 , 0.99711519, 0.99712588, 0.99723584,\n",
       "        0.99732672, 0.99750215, 0.99752556, 0.99754721, 0.99757477,\n",
       "        0.99773476, 0.99776583, 0.99778296, 0.99780107, 0.99783881,\n",
       "        0.99784256, 0.99790354, 0.99794802, 0.99795325, 0.9979796 ,\n",
       "        0.99799623, 0.99800867, 0.99811799, 0.99812923, 0.9981773 ,\n",
       "        0.99819495, 0.99822416, 0.99823908, 0.99824894, 0.99829461,\n",
       "        0.99830061, 0.99830192, 0.99831537, 0.99831686, 0.99832546,\n",
       "        0.99833825, 0.99834844, 0.99842972, 0.99851544, 0.99857152,\n",
       "        0.99861383, 0.99867222, 0.99868447, 0.99877485, 0.99882047,\n",
       "        0.99882356, 0.99884796, 0.998962  , 0.99898355, 0.99900589,\n",
       "        0.99902617, 0.99903929, 0.99904745, 0.99906433, 0.99906853,\n",
       "        0.99907102, 0.9991121 , 0.99912806, 0.99913175, 0.99913689,\n",
       "        0.99913692, 0.99914483, 0.99916063, 0.99916755, 0.99920121,\n",
       "        0.99921   , 0.99922322, 0.99922993, 0.99925857, 0.99928604,\n",
       "        0.99928826, 0.99932377, 0.99936222, 0.99936474, 0.9993987 ,\n",
       "        0.99944207, 0.99947049, 0.99947548, 0.99948255, 0.9994885 ,\n",
       "        0.99949011, 0.9994976 , 0.99949973, 0.99951501, 0.99951712,\n",
       "        0.99953733, 0.99955271, 0.99957479, 0.9995805 , 0.99958219,\n",
       "        0.99958363, 0.99958751, 0.99960136, 0.99960173, 0.999606  ,\n",
       "        0.99961061, 0.99961944, 0.99962957, 0.99963171, 0.99965082,\n",
       "        0.99965195, 0.99965418, 0.99965538, 0.99965722, 0.99965727,\n",
       "        0.99966386, 0.99966806, 0.99967076, 0.99967097, 0.99970535,\n",
       "        0.99971374, 0.99971409, 0.99972729, 0.99974361, 0.99974381,\n",
       "        0.99976   , 0.9997644 , 0.99977312, 0.99979392, 0.99979631,\n",
       "        0.9997968 , 0.99981594, 0.99981756, 0.99982017, 0.99982329,\n",
       "        0.99982785, 0.99982841, 0.9998481 , 0.99986325, 0.9998675 ,\n",
       "        0.99987109, 0.99987644, 0.99988556, 0.99989129, 0.99989295,\n",
       "        0.99989342, 0.99989349, 0.99989788, 0.99990197, 0.99990255,\n",
       "        0.99990632, 0.99991193, 0.99991732, 0.99991887, 0.99992079,\n",
       "        0.99992097, 0.99992248, 0.99993048, 0.99993223, 0.99994658,\n",
       "        0.99994678, 0.99995296, 0.99995348, 0.99996042, 0.99996065,\n",
       "        0.99996961, 0.9999709 , 0.99997142, 0.99997492, 0.99997665,\n",
       "        0.9999783 , 0.99998037, 0.99998073, 0.99998436, 0.99998438,\n",
       "        0.99998635, 0.99998918, 0.99998958, 0.99998966, 0.9999901 ,\n",
       "        0.9999923 , 0.9999932 , 0.99999404, 0.9999942 , 0.99999438,\n",
       "        0.9999946 , 0.9999953 , 0.99999609, 0.99999654, 0.99999784,\n",
       "        0.99999798, 0.99999827, 0.99999838, 0.99999851, 0.99999949,\n",
       "        0.99999955, 0.99999995]))"
      ]
     },
     "execution_count": 34,
     "metadata": {},
     "output_type": "execute_result"
    }
   ],
   "source": [
    "# EJERCICIO: calcular los puntos de la curva Precision-Recall mediante el método proporcionado por Sklearn\n",
    "metrics.precision_recall_curve(y, y_proba_clase1)"
   ]
  },
  {
   "cell_type": "code",
   "execution_count": 35,
   "metadata": {},
   "outputs": [
    {
     "data": {
      "text/plain": [
       "Text(0.5, 1.0, 'Prec-Recall curve')"
      ]
     },
     "execution_count": 35,
     "metadata": {},
     "output_type": "execute_result"
    },
    {
     "data": {
      "image/png": "[encoded data removed]",
      "text/plain": [
       "<Figure size 432x288 with 1 Axes>"
      ]
     },
     "metadata": {
      "needs_background": "light"
     },
     "output_type": "display_data"
    }
   ],
   "source": [
    "# EJERCICIO: mostrar gráficamente la curva Precision-Recall\n",
    "from sklearn.utils.fixes import signature\n",
    "\n",
    "precision, recall, _ = metrics.precision_recall_curve(y, y_proba_clase1)\n",
    "\n",
    "step_kwargs = ({'step': 'post'}\n",
    "               if 'step' in signature(plt.fill_between).parameters\n",
    "               else {})\n",
    "plt.step(recall, precision, color='b', alpha=0.2,\n",
    "         where='post')\n",
    "plt.fill_between(recall, precision, alpha=0.2, color='b', **step_kwargs)\n",
    "\n",
    "plt.xlabel('Recall')\n",
    "plt.ylabel('Precision')\n",
    "plt.ylim([0.0, 1.05])\n",
    "plt.xlim([0.0, 1.0])\n",
    "plt.title('Prec-Recall curve')"
   ]
  },
  {
   "cell_type": "code",
   "execution_count": 36,
   "metadata": {},
   "outputs": [
    {
     "name": "stdout",
     "output_type": "stream",
     "text": [
      "0.9942337916781663\n"
     ]
    }
   ],
   "source": [
    "# EJERCICIO: calcular la métrica average_precision_score mediante el método proporcionado por Sklearn\n",
    "print(metrics.average_precision_score(y, y_proba_clase1))"
   ]
  },
  {
   "cell_type": "markdown",
   "metadata": {},
   "source": [
    "## 6. Otros clasificadores <a name=\"otros_clasif\"> </a>\n",
    "\n",
    "### 6.1. Árboles de Decisión <a name=\"arboles\"> </a>\n",
    "\n",
    "Un árbol de decisión es una estructura que nos permite responder a preguntas complejas, mediante una secuencia ordenada de preguntas simples.\n",
    "\n",
    "La clasificación automática basada en árboles de decisión consiste en la creación de un árbol de este tipo a partir de un conjunto de datos. Es uno de los métodos más versátiles y populares. Tiene, además, la ventaja de que el modelo que se construye es interpretable por las personas.\n",
    "\n",
    "#### 6.1.1. Análisis del dataset con Árboles de Decisión"
   ]
  },
  {
   "cell_type": "code",
   "execution_count": 64,
   "metadata": {},
   "outputs": [],
   "source": [
    "# EJERCICIO: Repetir el análisis anterior haciendo uso del clasificador DecisionTreeClassifier\n",
    "clf = DecisionTreeClassifier()"
   ]
  },
  {
   "cell_type": "code",
   "execution_count": 65,
   "metadata": {},
   "outputs": [
    {
     "name": "stdout",
     "output_type": "stream",
     "text": [
      "Accuracy: 91.3884007029877%\n",
      "Confusion matrix: [[194  18]\n",
      " [ 31 326]]\n"
     ]
    }
   ],
   "source": [
    "get_metrics(clf, X, y)"
   ]
  },
  {
   "cell_type": "code",
   "execution_count": 68,
   "metadata": {},
   "outputs": [
    {
     "name": "stdout",
     "output_type": "stream",
     "text": [
      "TPR: 0.9215686274509803\n",
      "FPR: 0.09905660377358491\n",
      "ROC Curve: (array([0.        , 0.08490566, 1.        ]), array([0.        , 0.91596639, 1.        ]), array([2., 1., 0.]))\n",
      "AUC ROC: 0.9155303630886316\n"
     ]
    },
    {
     "data": {
      "image/png": "[encoded data removed]",
      "text/plain": [
       "<Figure size 432x288 with 1 Axes>"
      ]
     },
     "metadata": {
      "needs_background": "light"
     },
     "output_type": "display_data"
    }
   ],
   "source": [
    "# EJERCICIO: Análisis ROC \n",
    "get_metrics2(clf, X, y)"
   ]
  },
  {
   "cell_type": "markdown",
   "metadata": {},
   "source": [
    "\n",
    "#### 6.1.2 Interpretación de resultados con Árboles de Decisión\n",
    "\n",
    "Algunos modelos asociados a algoritmos de aprendizaje (como ocurre con los árboles de decisión) son interpretables. Esto significa que del modelo se pueden extraer reglas, o patrones, comprensibles para las personas. En este ejercicio usaremos una característica del estimador <code>DecisionTreeClassifier</code> que nos permite visualizar el árbol construido tras ser entrenado. \n",
    "\n",
    "Para ello nos apoyaremos en el paquete <code>graphviz</code> que permite visualizar grafos. La instrucción para instalar <code>graphviz</code> desde la consola de <code>anaconda</code> es:\n",
    "- <code>conda install python-graphviz</code>"
   ]
  },
  {
   "cell_type": "code",
   "execution_count": 71,
   "metadata": {},
   "outputs": [],
   "source": [
    "# EJERCICIO: Visualizar los dos primeros niveles del árbol resultante de entrenar el estimador DecisionTreeClassifier con los datos X e y.\n",
    "# nota: hacer uso de Source y tree.export_graphviz\n",
    "from IPython.display import Image  \n",
    "\n",
    "clf = DecisionTreeClassifier()\n",
    "clf.fit(X, y)\n",
    "\n",
    "dot_data = tree.export_graphviz(clf,\n",
    "                                out_file=None,\n",
    "                                filled=True,\n",
    "                                rounded=True)\n",
    "graph = pydotplus.graph_from_dot_data(dot_data)\n",
    "\n",
    "#Image(graph.create_png())"
   ]
  },
  {
   "cell_type": "markdown",
   "metadata": {},
   "source": [
    "### 6.2. Random Forest <a name=\"randomF\"> </a>\n",
    "\n",
    "Random forest es un método que combina una cantidad grande de árboles de decisión independientes probados sobre conjuntos de datos aleatorios con igual distribución."
   ]
  },
  {
   "cell_type": "code",
   "execution_count": 72,
   "metadata": {},
   "outputs": [
    {
     "name": "stdout",
     "output_type": "stream",
     "text": [
      "Accuracy: 96.30931458699473%\n",
      "Confusion matrix: [[199  13]\n",
      " [  8 349]]\n",
      "TPR: 0.9775910364145658\n",
      "FPR: 0.06132075471698113\n",
      "ROC Curve: (array([0.        , 0.00471698, 0.00471698, 0.00943396, 0.01415094,\n",
      "       0.01415094, 0.01415094, 0.01415094, 0.01415094, 0.01415094,\n",
      "       0.01415094, 0.01415094, 0.01415094, 0.01415094, 0.01415094,\n",
      "       0.01886792, 0.01886792, 0.01886792, 0.01886792, 0.01886792,\n",
      "       0.01886792, 0.01886792, 0.02830189, 0.02830189, 0.03301887,\n",
      "       0.03301887, 0.04245283, 0.04245283, 0.05188679, 0.05188679,\n",
      "       0.05660377, 0.07075472, 0.08018868, 0.08018868, 0.08962264,\n",
      "       0.08962264, 0.0990566 , 0.10849057, 0.11320755, 0.13207547,\n",
      "       0.13679245, 0.14150943, 0.14150943, 0.14622642, 0.16037736,\n",
      "       0.16509434, 0.18396226, 0.19811321, 0.20754717, 0.21698113,\n",
      "       0.23584906, 0.25      , 0.25943396, 0.27358491, 0.29245283,\n",
      "       0.30660377, 0.3254717 , 0.3490566 , 0.36320755, 0.4009434 ,\n",
      "       0.43396226, 0.48584906, 0.58490566, 1.        ]), array([0.        , 0.42577031, 0.54901961, 0.64705882, 0.69467787,\n",
      "       0.74509804, 0.76470588, 0.77591036, 0.80112045, 0.80672269,\n",
      "       0.82072829, 0.83753501, 0.8487395 , 0.85154062, 0.85994398,\n",
      "       0.87114846, 0.88235294, 0.8907563 , 0.89635854, 0.89915966,\n",
      "       0.91036415, 0.91316527, 0.91876751, 0.94677871, 0.94957983,\n",
      "       0.95238095, 0.95518207, 0.96078431, 0.96358543, 0.9719888 ,\n",
      "       0.9719888 , 0.97478992, 0.97759104, 0.98319328, 0.98319328,\n",
      "       0.98879552, 0.99159664, 0.99159664, 0.99159664, 0.99159664,\n",
      "       0.99159664, 0.99439776, 0.99719888, 0.99719888, 0.99719888,\n",
      "       0.99719888, 0.99719888, 0.99719888, 1.        , 1.        ,\n",
      "       1.        , 1.        , 1.        , 1.        , 1.        ,\n",
      "       1.        , 1.        , 1.        , 1.        , 1.        ,\n",
      "       1.        , 1.        , 1.        , 1.        ]), array([2.  , 1.  , 0.99, 0.98, 0.97, 0.95, 0.94, 0.93, 0.92, 0.91, 0.9 ,\n",
      "       0.88, 0.87, 0.86, 0.85, 0.84, 0.81, 0.8 , 0.79, 0.78, 0.75, 0.74,\n",
      "       0.73, 0.67, 0.66, 0.65, 0.64, 0.62, 0.58, 0.53, 0.52, 0.51, 0.48,\n",
      "       0.46, 0.45, 0.44, 0.4 , 0.39, 0.38, 0.35, 0.32, 0.31, 0.27, 0.26,\n",
      "       0.25, 0.24, 0.21, 0.18, 0.17, 0.15, 0.13, 0.12, 0.11, 0.1 , 0.09,\n",
      "       0.08, 0.07, 0.06, 0.05, 0.04, 0.03, 0.02, 0.01, 0.  ]))\n",
      "AUC ROC: 0.988868188784948\n"
     ]
    },
    {
     "data": {
      "image/png": "[encoded data removed]",
      "text/plain": [
       "<Figure size 432x288 with 1 Axes>"
      ]
     },
     "metadata": {
      "needs_background": "light"
     },
     "output_type": "display_data"
    }
   ],
   "source": [
    "# EJERCICIO: Repetir el análisis anterior haciendo uso del clasificador RandomForestClassifier\n",
    "clf = RandomForestClassifier(n_estimators=100)\n",
    "\n",
    "get_metrics(clf, X, y)\n",
    "\n",
    "get_metrics2(clf, X, y)"
   ]
  }
 ],
 "metadata": {
  "kernelspec": {
   "display_name": "Python 3",
   "language": "python",
   "name": "python3"
  },
  "language_info": {
   "codemirror_mode": {
    "name": "ipython",
    "version": 3
   },
   "file_extension": ".py",
   "mimetype": "text/x-python",
   "name": "python",
   "nbconvert_exporter": "python",
   "pygments_lexer": "ipython3",
   "version": "3.6.7"
  }
 },
 "nbformat": 4,
 "nbformat_minor": 2
}
